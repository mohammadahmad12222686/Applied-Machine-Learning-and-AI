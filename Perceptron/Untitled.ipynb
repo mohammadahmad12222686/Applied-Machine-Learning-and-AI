{
 "cells": [
  {
   "cell_type": "code",
   "execution_count": null,
   "id": "19bcbd4d-e2f7-47fb-84c9-1259d4fc7065",
   "metadata": {},
   "outputs": [],
   "source": []
  }
 ],
 "metadata": {
  "kernelspec": {
   "display_name": "Python 3 (ipykernel)",
   "language": "python",
   "name": "python3"
  },
  "language_info": {
   "codemirror_mode": {
    "name": "ipython",
    "version": 3
   },
   "file_extension": ".py",
   "mimetype": "text/x-python",
   "name": "python",
   "nbconvert_exporter": "python",
   "pygments_lexer": "ipython3",
   "version": "3.11.5"
  }
 },
 "nbformat": 4,
 "nbformat_minor": 5
}
