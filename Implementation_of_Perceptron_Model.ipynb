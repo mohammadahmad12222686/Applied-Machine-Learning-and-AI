{
 "cells": [
  {
   "cell_type": "markdown",
   "id": "a7701255-c7ce-41b7-8159-6fcc11303ab2",
   "metadata": {},
   "source": [
    "IMPLEMENTATION OF AND FUNCTION USING PERCEPTRON MODEL"
   ]
  },
  {
   "cell_type": "code",
   "execution_count": 2,
   "id": "165982cf-18a5-465d-9b6d-4d330e4aa4b1",
   "metadata": {},
   "outputs": [
    {
     "name": "stdout",
     "output_type": "stream",
     "text": [
      "Initial weights: [0. 0. 0.]\n",
      "Initial error: 1\n",
      "Iteration 1:\n",
      "Weights: [0.  0.1 0.1]\n",
      "Error: 2\n",
      "Iteration 2:\n",
      "Weights: [-0.1  0.2  0.1]\n",
      "Error: 3\n",
      "Iteration 3:\n",
      "Weights: [-0.2  0.2  0.1]\n",
      "Error: 3\n",
      "Iteration 4:\n",
      "Weights: [-0.2  0.2  0.1]\n",
      "Error: 0\n",
      "Testing the AND gate perceptron:\n",
      "Input: [0 0], Prediction: 0\n",
      "Input: [1 0], Prediction: 0\n",
      "Input: [0 1], Prediction: 0\n",
      "Input: [1 1], Prediction: 1\n"
     ]
    }
   ],
   "source": [
    "import numpy as np\n",
    "\n",
    "class Perceptron:\n",
    "    def __init__(self, num_features, learning_rate=0.1):\n",
    "        self.learning_rate = learning_rate\n",
    "        self.weights = np.zeros(num_features + 1)  # +1 for bias\n",
    "        self.threshold = 0.0\n",
    "\n",
    "    def predict(self, x):\n",
    "        activation = np.dot(x, self.weights[1:]) + self.weights[0]  # dot product + bias\n",
    "        return 1 if activation >= self.threshold else 0\n",
    "\n",
    "    def train(self, X, y):\n",
    "        iteration = 0\n",
    "        error = 1  # Initialize error\n",
    "        print(\"Initial weights:\", self.weights)\n",
    "        print(\"Initial error:\", error)\n",
    "        while error != 0:\n",
    "            error = 0  # Reset error for each epoch\n",
    "            for features, label in zip(X, y):\n",
    "                prediction = self.predict(features)\n",
    "                delta = label - prediction\n",
    "                if delta != 0:\n",
    "                    error += 1  # Increase error count\n",
    "                    self.weights[1:] += self.learning_rate * delta * features\n",
    "                    self.weights[0] += self.learning_rate * delta  # Update bias\n",
    "            iteration += 1\n",
    "            print(f\"Iteration {iteration}:\")\n",
    "            print(\"Weights:\", self.weights)\n",
    "            print(\"Error:\", error)\n",
    "            if iteration >= 20:\n",
    "                break  # Stop training after 20 iterations\n",
    "\n",
    "# Define the AND function truth table\n",
    "X_train = np.array([[0, 0], [0, 1], [1, 0], [1, 1]])\n",
    "y_train = np.array([0, 0, 0, 1])\n",
    "\n",
    "# Initialize and train the perceptron\n",
    "num_features = X_train.shape[1]\n",
    "perceptron = Perceptron(num_features)\n",
    "perceptron.train(X_train, y_train)\n",
    "\n",
    "# Test the perceptron\n",
    "X_test = np.array([[0, 0], [1, 0], [0, 1], [1, 1]])\n",
    "print(\"Testing the AND gate perceptron:\")\n",
    "for features in X_test:\n",
    "    prediction = perceptron.predict(features)\n",
    "    print(f\"Input: {features}, Prediction: {prediction}\")\n"
   ]
  },
  {
   "cell_type": "code",
   "execution_count": null,
   "id": "5dd7fd74-0243-43f2-8f41-c750bddfc491",
   "metadata": {},
   "outputs": [],
   "source": []
  }
 ],
 "metadata": {
  "kernelspec": {
   "display_name": "Python 3 (ipykernel)",
   "language": "python",
   "name": "python3"
  },
  "language_info": {
   "codemirror_mode": {
    "name": "ipython",
    "version": 3
   },
   "file_extension": ".py",
   "mimetype": "text/x-python",
   "name": "python",
   "nbconvert_exporter": "python",
   "pygments_lexer": "ipython3",
   "version": "3.11.5"
  }
 },
 "nbformat": 4,
 "nbformat_minor": 5
}
